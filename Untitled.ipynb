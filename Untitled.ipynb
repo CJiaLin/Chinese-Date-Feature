{
 "cells": [
  {
   "cell_type": "code",
   "execution_count": 1,
   "id": "05333076",
   "metadata": {},
   "outputs": [],
   "source": [
    "import datetime\n",
    "import pandas as pd\n",
    "import chinese_calendar as calendar"
   ]
  },
  {
   "cell_type": "code",
   "execution_count": 2,
   "id": "6b82a0af",
   "metadata": {},
   "outputs": [],
   "source": [
    "start_time = datetime.date(year=2021, month=1, day=1)\n",
    "end_time = datetime.date(year=2025, month=1, day=1)\n",
    "datetime_list = [start_time + datetime.timedelta(days=i) for i in range((end_time - start_time).days)]"
   ]
  },
  {
   "cell_type": "code",
   "execution_count": 3,
   "id": "221d9773",
   "metadata": {},
   "outputs": [
    {
     "data": {
      "text/plain": [
       "datetime.date(2024, 12, 31)"
      ]
     },
     "execution_count": 3,
     "metadata": {},
     "output_type": "execute_result"
    }
   ],
   "source": [
    "datetime_list[-1]"
   ]
  },
  {
   "cell_type": "code",
   "execution_count": 4,
   "id": "d04f5cd3",
   "metadata": {},
   "outputs": [],
   "source": [
    "# datetime_list = pd.date_range('20210101', '20250101')[:-1]"
   ]
  },
  {
   "cell_type": "code",
   "execution_count": 5,
   "id": "9b3a15c3",
   "metadata": {},
   "outputs": [],
   "source": [
    "on_holidays = [] # 是否节假日\n",
    "holiday_names = [] # 法定假日名称\n",
    "date_type = [] # 日期类别：0-工作日，1-周末，2-短假日，3-长假日\n",
    "tiao_xius = [] # 是否调休工作日\n",
    "long_count = 0 \n",
    "long_nth = [] # 法定假日第几天\n",
    "long_holidays = []\n",
    "\n",
    "for i in range(len(datetime_list)):\n",
    "    date = datetime_list[i]\n",
    "    on_holiday, holiday_name = calendar.get_holiday_detail(date)\n",
    "    on_holidays.append(on_holiday)\n",
    "    holiday_names.append(holiday_name)\n",
    "\n",
    "    # 日期类别\n",
    "    if on_holiday is True and holiday_name in ['Spring Festival', 'Labour Day', 'National Day']:  # 春节、五一、国庆为长假日\n",
    "        date_type.append(3)\n",
    "    elif holiday_name is not None:  # 短假日\n",
    "        date_type.append(2)\n",
    "    elif on_holiday:  # 周末\n",
    "        date_type.append(1) \n",
    "    else: # 工作日\n",
    "        date_type.append(0)\n",
    "\n",
    "    # 除周末外的法定假日，第几天节假日\n",
    "    if on_holiday is True and holiday_name is not None:  \n",
    "        long_count += 1\n",
    "        long_nth.append(long_count)\n",
    "        long_holidays.append(1)\n",
    "    elif long_count != 0:\n",
    "        long_count = 0\n",
    "        long_nth.append(0)\n",
    "        long_holidays.append(0)\n",
    "    else:\n",
    "        long_nth.append(0)\n",
    "        long_holidays.append(0)\n",
    "    \n",
    "    # 调休上班日\n",
    "    if on_holiday is False and holiday_name is not None:  \n",
    "        tiao_xius.append(True)\n",
    "    else:\n",
    "        tiao_xius.append(False)\n",
    "\n",
    "    # # 节假日前7天标记\n",
    "    # if on_holiday is False:"
   ]
  },
  {
   "cell_type": "code",
   "execution_count": 6,
   "id": "3d55b6f7",
   "metadata": {},
   "outputs": [],
   "source": [
    "data = pd.DataFrame({'datetime': datetime_list, \n",
    "                     'on_holiday': on_holidays, \n",
    "                     'holiday_name': holiday_names,\n",
    "                     'holiday_type':  date_type,\n",
    "                     'tiao_xiu': tiao_xius,\n",
    "                     'long_nth': long_nth,\n",
    "                     'is_long_holiday': long_holidays})"
   ]
  },
  {
   "cell_type": "code",
   "execution_count": 9,
   "id": "a03830b2",
   "metadata": {},
   "outputs": [],
   "source": [
    "holiday_before = []\n",
    "for i in range(len(long_holidays) - 7):\n",
    "    if long_holidays[i] == 1:\n",
    "        holiday_before.append(0)\n",
    "        continue\n",
    "    \n",
    "    count = 0\n",
    "    if 1 not in long_holidays[i + 1: i + 8]:\n",
    "        holiday_before.append(0)\n",
    "        continue\n",
    "\n",
    "    for j in range(1, 8):\n",
    "        if long_holidays[i + j] == 1:\n",
    "            holiday_before.append(count + 1)\n",
    "            break\n",
    "        else:\n",
    "            count += 1\n",
    "    if count == 7:\n",
    "        holiday_before.append(0)"
   ]
  },
  {
   "cell_type": "code",
   "execution_count": 12,
   "id": "16d488e0",
   "metadata": {},
   "outputs": [],
   "source": [
    "holiday_before.extend([7, 6, 5, 4, 3, 2, 1])"
   ]
  },
  {
   "cell_type": "code",
   "execution_count": 17,
   "id": "0b3b73fb",
   "metadata": {},
   "outputs": [],
   "source": [
    "holiday_after = []\n",
    "after_count = 0\n",
    "holi_flg = False\n",
    "for i in range(len(long_holidays)):\n",
    "    if long_holidays[i] == 1:\n",
    "        after_count = 0\n",
    "        holiday_after.append(0)\n",
    "        holi_flg = True\n",
    "        continue\n",
    "\n",
    "    if holi_flg == True:\n",
    "        after_count += 1\n",
    "    \n",
    "    if after_count > 7:\n",
    "        holiday_after.append(0)\n",
    "    else:\n",
    "        holiday_after.append(after_count)"
   ]
  },
  {
   "cell_type": "code",
   "execution_count": 18,
   "id": "3040ad9b",
   "metadata": {},
   "outputs": [],
   "source": [
    "data['holiday_before'] = holiday_before\n",
    "data['holiday_after'] = holiday_after"
   ]
  },
  {
   "cell_type": "code",
   "execution_count": 20,
   "id": "17ac29c9",
   "metadata": {},
   "outputs": [],
   "source": [
    "solar_data = pd.DataFrame(calendar.get_solar_terms(datetime_list[0], datetime_list[-1]), columns=['datetime', 'solar_terms'])\n",
    "solar_data.datetime = pd.to_datetime(solar_data.datetime)"
   ]
  },
  {
   "cell_type": "code",
   "execution_count": 21,
   "id": "9d8a8320",
   "metadata": {},
   "outputs": [],
   "source": [
    "data.datetime = pd.to_datetime(data.datetime)"
   ]
  },
  {
   "cell_type": "code",
   "execution_count": 22,
   "id": "65ae273d",
   "metadata": {},
   "outputs": [],
   "source": [
    "data_merge = data.merge(solar_data, on='datetime', how='left').fillna(False)"
   ]
  },
  {
   "cell_type": "code",
   "execution_count": 23,
   "id": "83d49938",
   "metadata": {},
   "outputs": [],
   "source": [
    "data_merge.to_csv('chinese_calendar.csv', index=None)"
   ]
  },
  {
   "cell_type": "code",
   "execution_count": null,
   "id": "d9c23d91",
   "metadata": {},
   "outputs": [],
   "source": []
  }
 ],
 "metadata": {
  "kernelspec": {
   "display_name": "py38",
   "language": "python",
   "name": "python3"
  },
  "language_info": {
   "codemirror_mode": {
    "name": "ipython",
    "version": 3
   },
   "file_extension": ".py",
   "mimetype": "text/x-python",
   "name": "python",
   "nbconvert_exporter": "python",
   "pygments_lexer": "ipython3",
   "version": "3.8.15"
  }
 },
 "nbformat": 4,
 "nbformat_minor": 5
}
